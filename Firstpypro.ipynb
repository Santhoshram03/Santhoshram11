{
 "cells": [
  {
   "cell_type": "markdown",
   "metadata": {},
   "source": [
    "Creating Variables"
   ]
  },
  {
   "cell_type": "code",
   "execution_count": 13,
   "metadata": {},
   "outputs": [
    {
     "name": "stdout",
     "output_type": "stream",
     "text": [
      "100\n",
      "0.567\n",
      "Just simply leaern a python in Visual studio code\n"
     ]
    },
    {
     "data": {
      "text/plain": [
       "str"
      ]
     },
     "execution_count": 13,
     "metadata": {},
     "output_type": "execute_result"
    }
   ],
   "source": [
    "x=100\n",
    "print(x)\n",
    "type(x)\n",
    "y=0.567\n",
    "print(y)\n",
    "type(y)\n",
    "z=\"Just simply leaern a python in Visual studio code\"\n",
    "print(z)\n",
    "type(z)\n",
    "\n"
   ]
  },
  {
   "cell_type": "markdown",
   "metadata": {},
   "source": [
    "Creating List and Tuple"
   ]
  },
  {
   "cell_type": "code",
   "execution_count": 44,
   "metadata": {},
   "outputs": [
    {
     "name": "stdout",
     "output_type": "stream",
     "text": [
      "[14, 67, 8]\n",
      "14\n",
      "67\n",
      "(4, 8, 6)\n",
      "6\n"
     ]
    }
   ],
   "source": [
    "x=[14,67,8]\n",
    "print(x)\n",
    "type(x)\n",
    "print (x[0])\n",
    "print(x[1])\n",
    "y=(4,8,6)\n",
    "print(y)\n",
    "type(y)\n",
    "print(y[2])"
   ]
  },
  {
   "cell_type": "markdown",
   "metadata": {},
   "source": [
    "Changing the values in the List"
   ]
  },
  {
   "cell_type": "code",
   "execution_count": 4,
   "metadata": {},
   "outputs": [
    {
     "name": "stdout",
     "output_type": "stream",
     "text": [
      "[14, 67, 8]\n",
      "[14, 67, 67]\n"
     ]
    }
   ],
   "source": [
    "print(x)\n",
    "x[2]=67\n",
    "print(x)"
   ]
  },
  {
   "cell_type": "markdown",
   "metadata": {},
   "source": [
    "Changing the Values in tuple is possible\n"
   ]
  },
  {
   "cell_type": "markdown",
   "metadata": {},
   "source": [
    "    #No , Tuples are Immutable,\n",
    "    #It cannot be changed,\n",
    "    #Since it gives an Error."
   ]
  },
  {
   "cell_type": "code",
   "execution_count": 6,
   "metadata": {},
   "outputs": [
    {
     "name": "stdout",
     "output_type": "stream",
     "text": [
      "(4, 8, 6)\n"
     ]
    },
    {
     "ename": "TypeError",
     "evalue": "'tuple' object does not support item assignment",
     "output_type": "error",
     "traceback": [
      "\u001b[1;31m---------------------------------------------------------------------------\u001b[0m",
      "\u001b[1;31mTypeError\u001b[0m                                 Traceback (most recent call last)",
      "\u001b[1;32mc:\\Users\\santhoshram\\Desktop\\My project\\python\\San Py\\Firstpypro.ipynb Cell 9'\u001b[0m in \u001b[0;36m<cell line: 2>\u001b[1;34m()\u001b[0m\n\u001b[0;32m      <a href='vscode-notebook-cell:/c%3A/Users/santhoshram/Desktop/My%20project/python/San%20Py/Firstpypro.ipynb#ch0000014?line=0'>1</a>\u001b[0m \u001b[39mprint\u001b[39m(y)\n\u001b[1;32m----> <a href='vscode-notebook-cell:/c%3A/Users/santhoshram/Desktop/My%20project/python/San%20Py/Firstpypro.ipynb#ch0000014?line=1'>2</a>\u001b[0m y[\u001b[39m2\u001b[39m]\u001b[39m=\u001b[39m\u001b[39m30\u001b[39m\n\u001b[0;32m      <a href='vscode-notebook-cell:/c%3A/Users/santhoshram/Desktop/My%20project/python/San%20Py/Firstpypro.ipynb#ch0000014?line=2'>3</a>\u001b[0m \u001b[39mprint\u001b[39m(y)\n",
      "\u001b[1;31mTypeError\u001b[0m: 'tuple' object does not support item assignment"
     ]
    }
   ],
   "source": [
    "print(y)\n",
    "y[2]=30\n",
    "print(y)"
   ]
  },
  {
   "cell_type": "markdown",
   "metadata": {},
   "source": [
    "Arithmetic Operation"
   ]
  },
  {
   "cell_type": "code",
   "execution_count": 10,
   "metadata": {},
   "outputs": [
    {
     "name": "stdout",
     "output_type": "stream",
     "text": [
      "40\n",
      "0\n",
      "400\n",
      "1.0\n",
      "1\n"
     ]
    }
   ],
   "source": [
    "x=20\n",
    "y=20\n",
    "result=x+y\n",
    "print(result)\n",
    "result=x-y\n",
    "print(result)\n",
    "result=x*y\n",
    "print(result)\n",
    "result=x/y\n",
    "print(result)\n",
    "result=x//y\n",
    "print(result)"
   ]
  },
  {
   "cell_type": "markdown",
   "metadata": {},
   "source": [
    "String Operation\n"
   ]
  },
  {
   "cell_type": "code",
   "execution_count": 11,
   "metadata": {},
   "outputs": [
    {
     "name": "stdout",
     "output_type": "stream",
     "text": [
      "Justlearn python\n"
     ]
    }
   ],
   "source": [
    "var=\"Justlearn python\"\n",
    "print(var)"
   ]
  },
  {
   "cell_type": "markdown",
   "metadata": {},
   "source": [
    "Extracting a Single Character in String"
   ]
  },
  {
   "cell_type": "code",
   "execution_count": 17,
   "metadata": {},
   "outputs": [
    {
     "name": "stdout",
     "output_type": "stream",
     "text": [
      "Justlearn python\n",
      "J\n",
      "l\n",
      "t\n"
     ]
    }
   ],
   "source": [
    "var=\"Justlearn python\"\n",
    "print(var)\n",
    "print(var[0])\n",
    "print(var[4])\n",
    "print(var[3])"
   ]
  },
  {
   "cell_type": "markdown",
   "metadata": {},
   "source": [
    "Extraction of multiple character in String"
   ]
  },
  {
   "cell_type": "code",
   "execution_count": 21,
   "metadata": {},
   "outputs": [
    {
     "name": "stdout",
     "output_type": "stream",
     "text": [
      "Jus\n",
      "Jus\n",
      "earn python\n"
     ]
    },
    {
     "data": {
      "text/plain": [
       "16"
      ]
     },
     "execution_count": 21,
     "metadata": {},
     "output_type": "execute_result"
    }
   ],
   "source": [
    "print(var[0:3])\n",
    "print(var[:3])\n",
    "print(var[5:])\n",
    "len(var)"
   ]
  },
  {
   "cell_type": "markdown",
   "metadata": {},
   "source": [
    "Numbers in python"
   ]
  },
  {
   "cell_type": "code",
   "execution_count": 25,
   "metadata": {},
   "outputs": [
    {
     "data": {
      "text/plain": [
       "float"
      ]
     },
     "execution_count": 25,
     "metadata": {},
     "output_type": "execute_result"
    }
   ],
   "source": [
    "num=5\n",
    "type(num)\n",
    "num=234567\n",
    "type(num)\n",
    "num=5.4\n",
    "type(num)\n"
   ]
  },
  {
   "cell_type": "markdown",
   "metadata": {},
   "source": [
    "Complex Numbers"
   ]
  },
  {
   "cell_type": "code",
   "execution_count": 30,
   "metadata": {},
   "outputs": [
    {
     "data": {
      "text/plain": [
       "5.0"
      ]
     },
     "execution_count": 30,
     "metadata": {},
     "output_type": "execute_result"
    }
   ],
   "source": [
    "num=2+5j\n",
    "type(num)\n",
    "num.real\n",
    "num.imag"
   ]
  },
  {
   "cell_type": "markdown",
   "metadata": {},
   "source": [
    "Number Operations"
   ]
  },
  {
   "cell_type": "code",
   "execution_count": 35,
   "metadata": {},
   "outputs": [
    {
     "name": "stdout",
     "output_type": "stream",
     "text": [
      "30\n",
      "-10\n",
      "200\n",
      "0.5\n",
      "0\n",
      "100000000000000000000\n",
      "10\n"
     ]
    }
   ],
   "source": [
    "num1=10\n",
    "num2=20\n",
    "print(num1+num2)\n",
    "print(num1-num2)\n",
    "print(num1*num2)\n",
    "print(num1/num2)\n",
    "print(num1//num2)\n",
    "print(num1**num2)\n",
    "print(num1%num2)"
   ]
  },
  {
   "cell_type": "markdown",
   "metadata": {},
   "source": [
    "Conversions"
   ]
  },
  {
   "cell_type": "code",
   "execution_count": 41,
   "metadata": {},
   "outputs": [
    {
     "name": "stdout",
     "output_type": "stream",
     "text": [
      "192.0\n",
      "(192+0j)\n"
     ]
    }
   ],
   "source": [
    "x=\"192\"\n",
    "type(x)\n",
    "x=int(x)\n",
    "type(x)\n",
    "x=float(x)\n",
    "print(x)\n",
    "x=complex(x)\n",
    "print(x)"
   ]
  },
  {
   "cell_type": "markdown",
   "metadata": {},
   "source": [
    "Inbuild Functions"
   ]
  },
  {
   "cell_type": "code",
   "execution_count": 42,
   "metadata": {},
   "outputs": [
    {
     "name": "stdout",
     "output_type": "stream",
     "text": [
      "7.5\n"
     ]
    }
   ],
   "source": [
    "x=-7.5\n",
    "print(abs(x))"
   ]
  },
  {
   "cell_type": "markdown",
   "metadata": {},
   "source": [
    "Exponent Function"
   ]
  },
  {
   "cell_type": "markdown",
   "metadata": {},
   "source": [
    "#Before using exp function, we need to import an Header file,\n"
   ]
  },
  {
   "cell_type": "markdown",
   "metadata": {},
   "source": [
    "#And exp function is located in a math library.\n"
   ]
  },
  {
   "cell_type": "code",
   "execution_count": 48,
   "metadata": {},
   "outputs": [
    {
     "name": "stdout",
     "output_type": "stream",
     "text": [
      "22026.465794806718\n",
      "3.0\n",
      "2.449489742783178\n"
     ]
    }
   ],
   "source": [
    "import math\n",
    "x=10\n",
    "print(math.exp(x))\n",
    "math.e\n",
    "math.pi\n",
    "print(math.sqrt(9))\n",
    "print(math.sqrt(6))"
   ]
  },
  {
   "cell_type": "markdown",
   "metadata": {},
   "source": [
    "And another usage in math lib is to find a max and min values"
   ]
  },
  {
   "cell_type": "markdown",
   "metadata": {},
   "source": [
    "It present by in default"
   ]
  },
  {
   "cell_type": "code",
   "execution_count": 51,
   "metadata": {},
   "outputs": [
    {
     "data": {
      "text/plain": [
       "1"
      ]
     },
     "execution_count": 51,
     "metadata": {},
     "output_type": "execute_result"
    }
   ],
   "source": [
    "max(1,34,4986,3526,87)\n",
    "min(1,34,4986,3526,87)"
   ]
  },
  {
   "cell_type": "markdown",
   "metadata": {},
   "source": [
    "LISTS"
   ]
  },
  {
   "cell_type": "code",
   "execution_count": 56,
   "metadata": {},
   "outputs": [
    {
     "name": "stdout",
     "output_type": "stream",
     "text": [
      "[1, 2, 3, 4, 5]\n",
      "['a', 'b', 'c', 'd']\n"
     ]
    },
    {
     "data": {
      "text/plain": [
       "list"
      ]
     },
     "execution_count": 56,
     "metadata": {},
     "output_type": "execute_result"
    }
   ],
   "source": [
    "num=[1,2,3,4,5]\n",
    "print(num)\n",
    "type(num)\n",
    "letter=['a','b','c','d']\n",
    "print(letter)\n",
    "type(letter)\n"
   ]
  },
  {
   "cell_type": "markdown",
   "metadata": {},
   "source": [
    "LISTS OF STRINGS"
   ]
  },
  {
   "cell_type": "code",
   "execution_count": 59,
   "metadata": {},
   "outputs": [
    {
     "name": "stdout",
     "output_type": "stream",
     "text": [
      "['learn', 'python', 'Easily', 'ahead']\n",
      "[1, 6, 'learn', 'python', 'Easily', 'ahead']\n",
      "[[1, 2], ['a', 'b']]\n"
     ]
    }
   ],
   "source": [
    "stg=[\"learn\",\"python\",\"Easily\",\"ahead\"]\n",
    "print(stg)\n",
    "mix=[1,6,\"learn\",\"python\",\"Easily\",\"ahead\"]\n",
    "print(mix)\n",
    "mat=[[1,2],['a','b']]\n",
    "print(mat)"
   ]
  },
  {
   "cell_type": "markdown",
   "metadata": {},
   "source": [
    "Accessing an elements in the list"
   ]
  },
  {
   "cell_type": "code",
   "execution_count": 68,
   "metadata": {},
   "outputs": [
    {
     "name": "stdout",
     "output_type": "stream",
     "text": [
      "[1, 6, 'learn', 'python', 'Easily', 'ahead']\n"
     ]
    },
    {
     "data": {
      "text/plain": [
       "['ahead', 'Easily', 'python', 'learn', 6, 1]"
      ]
     },
     "execution_count": 68,
     "metadata": {},
     "output_type": "execute_result"
    }
   ],
   "source": [
    "print(mix)\n",
    "mix[3]\n",
    "mix[-2]\n",
    "mix[:3]\n",
    "mix[3:]\n",
    "mix[2:4]\n",
    "mix[::-1]"
   ]
  },
  {
   "cell_type": "markdown",
   "metadata": {},
   "source": [
    "Operations On Lists"
   ]
  },
  {
   "cell_type": "code",
   "execution_count": 70,
   "metadata": {},
   "outputs": [
    {
     "name": "stdout",
     "output_type": "stream",
     "text": [
      "[0, 0, 0, 0, 0, 0, 0, 0, 0, 0, 0, 0, 0, 0, 0, 0, 0, 0, 0, 0, 0, 0, 0, 0, 0, 0, 0, 0, 0, 0, 0, 0, 0, 0, 0, 0, 0, 0, 0, 0, 0, 0, 0, 0, 0, 0, 0, 0, 0, 0, 0, 0, 0, 0, 0, 0, 0, 0, 0, 0, 0, 0, 0, 0, 0, 0, 0, 0, 0, 0, 0, 0, 0, 0, 0, 0, 0, 0, 0, 0, 0, 0, 0, 0, 0, 0, 0, 0, 0, 0, 0, 0, 0, 0, 0, 0, 0, 0, 0, 0]\n"
     ]
    }
   ],
   "source": [
    "z=[0]*100\n",
    "print(z)\n"
   ]
  },
  {
   "cell_type": "code",
   "execution_count": 71,
   "metadata": {},
   "outputs": [
    {
     "name": "stdout",
     "output_type": "stream",
     "text": [
      "['a', 'b', 'c', 'd']\n"
     ]
    }
   ],
   "source": [
    "print(letter)"
   ]
  },
  {
   "cell_type": "code",
   "execution_count": 72,
   "metadata": {},
   "outputs": [
    {
     "name": "stdout",
     "output_type": "stream",
     "text": [
      "['learn', 'python', 'Easily', 'ahead']\n"
     ]
    }
   ],
   "source": [
    "print(stg)"
   ]
  },
  {
   "cell_type": "markdown",
   "metadata": {},
   "source": [
    "CONCATENATION OF STRING IN LIST"
   ]
  },
  {
   "cell_type": "code",
   "execution_count": 73,
   "metadata": {},
   "outputs": [
    {
     "name": "stdout",
     "output_type": "stream",
     "text": [
      "['a', 'b', 'c', 'd', 'learn', 'python', 'Easily', 'ahead']\n"
     ]
    }
   ],
   "source": [
    "conc=letter+stg\n",
    "print(conc)"
   ]
  },
  {
   "cell_type": "code",
   "execution_count": 74,
   "metadata": {},
   "outputs": [
    {
     "name": "stdout",
     "output_type": "stream",
     "text": [
      "['H', 'e', 'y', ' ', 't', 'h', 'e', 'r', 'e']\n"
     ]
    }
   ],
   "source": [
    "var=list(\"Hey there\")\n",
    "print(var)"
   ]
  },
  {
   "cell_type": "code",
   "execution_count": 75,
   "metadata": {},
   "outputs": [
    {
     "name": "stdout",
     "output_type": "stream",
     "text": [
      "[1, 2, 3, 4, 5]\n"
     ]
    }
   ],
   "source": [
    "print(num)"
   ]
  },
  {
   "cell_type": "code",
   "execution_count": 81,
   "metadata": {},
   "outputs": [
    {
     "name": "stdout",
     "output_type": "stream",
     "text": [
      "[2, 3, 4, 5]\n",
      "1\n",
      "[1, 2, 3, 4, 5]\n"
     ]
    }
   ],
   "source": [
    "one,*other=num\n",
    "print(other)\n",
    "print(one)\n",
    "print(num)"
   ]
  },
  {
   "cell_type": "markdown",
   "metadata": {},
   "source": [
    "Methods in Lists"
   ]
  },
  {
   "cell_type": "code",
   "execution_count": 84,
   "metadata": {},
   "outputs": [
    {
     "name": "stdout",
     "output_type": "stream",
     "text": [
      "[1, 2, 3, 4, 5, 6]\n",
      "[1, 2, 3, 4, 5, 6, 6]\n"
     ]
    }
   ],
   "source": [
    "print(num)\n",
    "num.append(6)\n",
    "print(num)"
   ]
  },
  {
   "cell_type": "code",
   "execution_count": 87,
   "metadata": {},
   "outputs": [
    {
     "name": "stdout",
     "output_type": "stream",
     "text": [
      "[1, 2, 3, 4, 5, 6, 6, 'learn', 'python', 'Easily', 'ahead', 'learn', 'python', 'Easily', 'ahead', 'learn', 'python', 'Easily', 'ahead']\n"
     ]
    }
   ],
   "source": [
    "num.extend(stg)\n",
    "print(stg)\n",
    "print(num)"
   ]
  },
  {
   "cell_type": "code",
   "execution_count": 90,
   "metadata": {},
   "outputs": [
    {
     "name": "stdout",
     "output_type": "stream",
     "text": [
      "[1, 2, 3, 4, 5, 'simplilearn', 6, 6, 'simplilearn', 'learn', 'python', 'Easily', 'ahead', 'learn', 'python', 'Easily', 'ahead', 'learn', 'python', 'Easily', 'ahead']\n"
     ]
    }
   ],
   "source": [
    "num.insert(5,\"simplilearn\")\n",
    "print(num)"
   ]
  },
  {
   "cell_type": "code",
   "execution_count": 91,
   "metadata": {},
   "outputs": [
    {
     "name": "stdout",
     "output_type": "stream",
     "text": [
      "[1, 2, 3, 4, 5, 6, 6, 'simplilearn', 'learn', 'python', 'Easily', 'ahead', 'learn', 'python', 'Easily', 'ahead', 'learn', 'python', 'Easily', 'ahead']\n"
     ]
    }
   ],
   "source": [
    "num.remove(\"simplilearn\")\n",
    "print(num)"
   ]
  },
  {
   "cell_type": "markdown",
   "metadata": {},
   "source": [
    "Creates New Lists"
   ]
  },
  {
   "cell_type": "code",
   "execution_count": 92,
   "metadata": {},
   "outputs": [
    {
     "name": "stdout",
     "output_type": "stream",
     "text": [
      "['a', 'b', 'f', 'q', 'r']\n"
     ]
    }
   ],
   "source": [
    "var1=['b','f','a','q','r']\n",
    "var1.sort()\n",
    "print(var1)"
   ]
  },
  {
   "cell_type": "markdown",
   "metadata": {},
   "source": [
    "Build in Functions In the lists"
   ]
  },
  {
   "cell_type": "code",
   "execution_count": 93,
   "metadata": {},
   "outputs": [
    {
     "data": {
      "text/plain": [
       "6"
      ]
     },
     "execution_count": 93,
     "metadata": {},
     "output_type": "execute_result"
    }
   ],
   "source": [
    "x=[9,17,14,4,90,55]\n",
    "len(x)"
   ]
  },
  {
   "cell_type": "code",
   "execution_count": 94,
   "metadata": {},
   "outputs": [
    {
     "data": {
      "text/plain": [
       "4"
      ]
     },
     "execution_count": 94,
     "metadata": {},
     "output_type": "execute_result"
    }
   ],
   "source": [
    "min(x)"
   ]
  },
  {
   "cell_type": "code",
   "execution_count": 95,
   "metadata": {},
   "outputs": [
    {
     "data": {
      "text/plain": [
       "90"
      ]
     },
     "execution_count": 95,
     "metadata": {},
     "output_type": "execute_result"
    }
   ],
   "source": [
    "max(x)"
   ]
  },
  {
   "cell_type": "code",
   "execution_count": 96,
   "metadata": {},
   "outputs": [
    {
     "data": {
      "text/plain": [
       "189"
      ]
     },
     "execution_count": 96,
     "metadata": {},
     "output_type": "execute_result"
    }
   ],
   "source": [
    "sum(x)"
   ]
  },
  {
   "cell_type": "code",
   "execution_count": 100,
   "metadata": {},
   "outputs": [
    {
     "name": "stdout",
     "output_type": "stream",
     "text": [
      "31.5\n"
     ]
    }
   ],
   "source": [
    "avg=sum(x)/len(x)\n",
    "print(avg)"
   ]
  },
  {
   "cell_type": "markdown",
   "metadata": {},
   "source": [
    "PYTHON TUPLES"
   ]
  },
  {
   "cell_type": "markdown",
   "metadata": {},
   "source": [
    "#Tuples is a collections of immutable"
   ]
  },
  {
   "cell_type": "markdown",
   "metadata": {},
   "source": [
    "CREATING TUPLES"
   ]
  },
  {
   "cell_type": "code",
   "execution_count": 101,
   "metadata": {},
   "outputs": [
    {
     "name": "stdout",
     "output_type": "stream",
     "text": [
      "<class 'tuple'>\n"
     ]
    }
   ],
   "source": [
    "emp=()\n",
    "print(type(emp))"
   ]
  },
  {
   "cell_type": "code",
   "execution_count": 103,
   "metadata": {},
   "outputs": [
    {
     "name": "stdout",
     "output_type": "stream",
     "text": [
      "['pune', 'Bangalore', 'Delhi', 'Mumbai']\n"
     ]
    }
   ],
   "source": [
    "city=[\"pune\",\"Bangalore\",\"Delhi\",\"Mumbai\"]\n",
    "print(city)\n"
   ]
  },
  {
   "cell_type": "code",
   "execution_count": 106,
   "metadata": {},
   "outputs": [
    {
     "name": "stdout",
     "output_type": "stream",
     "text": [
      "[1, 2, 3, 67, 5]\n"
     ]
    }
   ],
   "source": [
    "list1=[1,2,3,67]\n",
    "list1.append(5)\n",
    "print(list1)"
   ]
  },
  {
   "cell_type": "code",
   "execution_count": 107,
   "metadata": {},
   "outputs": [
    {
     "ename": "AttributeError",
     "evalue": "'tuple' object has no attribute 'append'",
     "output_type": "error",
     "traceback": [
      "\u001b[1;31m---------------------------------------------------------------------------\u001b[0m",
      "\u001b[1;31mAttributeError\u001b[0m                            Traceback (most recent call last)",
      "\u001b[1;32mc:\\Users\\santhoshram\\Desktop\\My project\\python\\San Py\\Firstpypro.ipynb Cell 69'\u001b[0m in \u001b[0;36m<cell line: 2>\u001b[1;34m()\u001b[0m\n\u001b[0;32m      <a href='vscode-notebook-cell:/c%3A/Users/santhoshram/Desktop/My%20project/python/San%20Py/Firstpypro.ipynb#ch0000077?line=0'>1</a>\u001b[0m tuple1\u001b[39m=\u001b[39m(\u001b[39m1\u001b[39m,\u001b[39m2\u001b[39m,\u001b[39m3\u001b[39m,\u001b[39m4\u001b[39m,\u001b[39m5\u001b[39m,\u001b[39m6\u001b[39m,\u001b[39m7\u001b[39m)\n\u001b[1;32m----> <a href='vscode-notebook-cell:/c%3A/Users/santhoshram/Desktop/My%20project/python/San%20Py/Firstpypro.ipynb#ch0000077?line=1'>2</a>\u001b[0m tuple1\u001b[39m.\u001b[39;49mappend(\u001b[39m8\u001b[39m)\n",
      "\u001b[1;31mAttributeError\u001b[0m: 'tuple' object has no attribute 'append'"
     ]
    }
   ],
   "source": [
    "tuple1=(1,2,3,4,5,6,7)\n",
    "tuple1.append(8)"
   ]
  },
  {
   "cell_type": "code",
   "execution_count": 108,
   "metadata": {},
   "outputs": [
    {
     "name": "stdout",
     "output_type": "stream",
     "text": [
      "['pune', 'Bangalore', 'Delhi', 'Mumbai']\n"
     ]
    }
   ],
   "source": [
    "print(city)"
   ]
  },
  {
   "cell_type": "code",
   "execution_count": 109,
   "metadata": {},
   "outputs": [
    {
     "data": {
      "text/plain": [
       "'Bangalore'"
      ]
     },
     "execution_count": 109,
     "metadata": {},
     "output_type": "execute_result"
    }
   ],
   "source": [
    "city[1]\n"
   ]
  },
  {
   "cell_type": "code",
   "execution_count": 110,
   "metadata": {},
   "outputs": [
    {
     "data": {
      "text/plain": [
       "'Mumbai'"
      ]
     },
     "execution_count": 110,
     "metadata": {},
     "output_type": "execute_result"
    }
   ],
   "source": [
    "city[-1]"
   ]
  },
  {
   "cell_type": "markdown",
   "metadata": {},
   "source": [
    "CONCATENATION "
   ]
  },
  {
   "cell_type": "code",
   "execution_count": 125,
   "metadata": {},
   "outputs": [
    {
     "name": "stdout",
     "output_type": "stream",
     "text": [
      "['pune', 'Bangalore', 'Delhi', 'Mumbai']\n"
     ]
    },
    {
     "data": {
      "text/plain": [
       "tuple"
      ]
     },
     "execution_count": 125,
     "metadata": {},
     "output_type": "execute_result"
    }
   ],
   "source": [
    "print(city)\n",
    "city=tuple(city)\n",
    "type(city)"
   ]
  },
  {
   "cell_type": "code",
   "execution_count": 118,
   "metadata": {},
   "outputs": [
    {
     "name": "stdout",
     "output_type": "stream",
     "text": [
      "(1, 2, 3, 4, 5)\n"
     ]
    },
    {
     "data": {
      "text/plain": [
       "tuple"
      ]
     },
     "execution_count": 118,
     "metadata": {},
     "output_type": "execute_result"
    }
   ],
   "source": [
    "num5=1,2,3,4,5\n",
    "print(num5)\n",
    "type(num5)"
   ]
  },
  {
   "cell_type": "code",
   "execution_count": 126,
   "metadata": {},
   "outputs": [
    {
     "name": "stdout",
     "output_type": "stream",
     "text": [
      "('pune', 'Bangalore', 'Delhi', 'Mumbai', 1, 2, 3, 4, 5)\n"
     ]
    }
   ],
   "source": [
    "print(city+num5)"
   ]
  },
  {
   "cell_type": "markdown",
   "metadata": {},
   "source": [
    "NESTING  (Tuple with other Tuple)"
   ]
  },
  {
   "cell_type": "code",
   "execution_count": 128,
   "metadata": {},
   "outputs": [
    {
     "name": "stdout",
     "output_type": "stream",
     "text": [
      "(('pune', 'Bangalore', 'Delhi', 'Mumbai'), (1, 2, 3, 4, 5))\n"
     ]
    }
   ],
   "source": [
    "xycv=(city,num5)\n",
    "print(xycv)"
   ]
  },
  {
   "cell_type": "markdown",
   "metadata": {},
   "source": [
    "REPITITON"
   ]
  },
  {
   "cell_type": "code",
   "execution_count": 130,
   "metadata": {},
   "outputs": [
    {
     "name": "stdout",
     "output_type": "stream",
     "text": [
      "pythonpythonpythonpythonpython\n"
     ]
    },
    {
     "data": {
      "text/plain": [
       "str"
      ]
     },
     "execution_count": 130,
     "metadata": {},
     "output_type": "execute_result"
    }
   ],
   "source": [
    "rep=(\"python\"*5)\n",
    "print(rep)\n"
   ]
  },
  {
   "cell_type": "markdown",
   "metadata": {},
   "source": [
    "SLICING"
   ]
  },
  {
   "cell_type": "code",
   "execution_count": 134,
   "metadata": {},
   "outputs": [
    {
     "name": "stdout",
     "output_type": "stream",
     "text": [
      "[1, 2, 3, 4, 5, 6, 6, 'simplilearn', 'learn', 'python', 'Easily', 'ahead', 'learn', 'python', 'Easily', 'ahead', 'learn', 'python', 'Easily', 'ahead']\n"
     ]
    },
    {
     "data": {
      "text/plain": [
       "['simplilearn',\n",
       " 'learn',\n",
       " 'python',\n",
       " 'Easily',\n",
       " 'ahead',\n",
       " 'learn',\n",
       " 'python',\n",
       " 'Easily',\n",
       " 'ahead',\n",
       " 'learn',\n",
       " 'python',\n",
       " 'Easily',\n",
       " 'ahead']"
      ]
     },
     "execution_count": 134,
     "metadata": {},
     "output_type": "execute_result"
    }
   ],
   "source": [
    "print(num)\n",
    "num[7:]"
   ]
  },
  {
   "cell_type": "code",
   "execution_count": 133,
   "metadata": {},
   "outputs": [
    {
     "data": {
      "text/plain": [
       "['ahead',\n",
       " 'Easily',\n",
       " 'python',\n",
       " 'learn',\n",
       " 'ahead',\n",
       " 'Easily',\n",
       " 'python',\n",
       " 'learn',\n",
       " 'ahead',\n",
       " 'Easily',\n",
       " 'python',\n",
       " 'learn',\n",
       " 'simplilearn',\n",
       " 6,\n",
       " 6,\n",
       " 5,\n",
       " 4,\n",
       " 3,\n",
       " 2,\n",
       " 1]"
      ]
     },
     "execution_count": 133,
     "metadata": {},
     "output_type": "execute_result"
    }
   ],
   "source": [
    "num[::-1]"
   ]
  },
  {
   "cell_type": "markdown",
   "metadata": {},
   "source": [
    "UNPACKING"
   ]
  },
  {
   "cell_type": "code",
   "execution_count": 1,
   "metadata": {},
   "outputs": [
    {
     "data": {
      "text/plain": [
       "('S', 'i', 'm', 'p', 'l', 'i', 'l', 'e', 'a', 'r', 'n')"
      ]
     },
     "execution_count": 1,
     "metadata": {},
     "output_type": "execute_result"
    }
   ],
   "source": [
    "tuple(\"Simplilearn\")"
   ]
  },
  {
   "cell_type": "code",
   "execution_count": 11,
   "metadata": {},
   "outputs": [
    {
     "name": "stdout",
     "output_type": "stream",
     "text": [
      "9\n",
      "8\n",
      "2\n"
     ]
    }
   ],
   "source": [
    "num=(3,2,5,2,2,2,6,5,8)\n",
    "type(num)\n",
    "num.count(2)\n",
    "sum(num)\n",
    "print(len(num))\n",
    "print(max(num))\n",
    "print(min(num))\n"
   ]
  },
  {
   "cell_type": "markdown",
   "metadata": {},
   "source": [
    "Converting List to Tuple"
   ]
  },
  {
   "cell_type": "code",
   "execution_count": 12,
   "metadata": {},
   "outputs": [
    {
     "name": "stdout",
     "output_type": "stream",
     "text": [
      "<class 'list'>\n"
     ]
    }
   ],
   "source": [
    "list=[1,2,3,4]\n",
    "print(type(list))"
   ]
  },
  {
   "cell_type": "code",
   "execution_count": 15,
   "metadata": {},
   "outputs": [
    {
     "name": "stdout",
     "output_type": "stream",
     "text": [
      "<class 'tuple'>\n"
     ]
    },
    {
     "data": {
      "text/plain": [
       "tuple"
      ]
     },
     "execution_count": 15,
     "metadata": {},
     "output_type": "execute_result"
    }
   ],
   "source": [
    "tpl=tuple(list)\n",
    "print(tuple)\n",
    "type(tpl)"
   ]
  },
  {
   "cell_type": "code",
   "execution_count": 16,
   "metadata": {},
   "outputs": [
    {
     "name": "stdout",
     "output_type": "stream",
     "text": [
      "[(1, 2, 3), (4, 5, 6)]\n"
     ]
    }
   ],
   "source": [
    "list=[]\n",
    "list=[(1,2,3),(4,5,6)]\n",
    "print(list)"
   ]
  },
  {
   "cell_type": "markdown",
   "metadata": {},
   "source": [
    "STRINGS IN PYTHON"
   ]
  },
  {
   "cell_type": "code",
   "execution_count": 17,
   "metadata": {},
   "outputs": [
    {
     "name": "stdout",
     "output_type": "stream",
     "text": [
      "Just simplileaern python\n"
     ]
    },
    {
     "data": {
      "text/plain": [
       "str"
      ]
     },
     "execution_count": 17,
     "metadata": {},
     "output_type": "execute_result"
    }
   ],
   "source": [
    "stg=\"Just simplileaern python\"\n",
    "print(stg)\n",
    "type(stg)"
   ]
  },
  {
   "cell_type": "code",
   "execution_count": 18,
   "metadata": {},
   "outputs": [
    {
     "name": "stdout",
     "output_type": "stream",
     "text": [
      "Tim birthday\n"
     ]
    }
   ],
   "source": [
    "stg='Tim birthday'\n",
    "print(stg)"
   ]
  },
  {
   "cell_type": "code",
   "execution_count": 19,
   "metadata": {},
   "outputs": [
    {
     "ename": "SyntaxError",
     "evalue": "unterminated string literal (detected at line 1) (1554551510.py, line 1)",
     "output_type": "error",
     "traceback": [
      "\u001b[1;36m  Input \u001b[1;32mIn [19]\u001b[1;36m\u001b[0m\n\u001b[1;33m    stg='Tim's birthday'\u001b[0m\n\u001b[1;37m                       ^\u001b[0m\n\u001b[1;31mSyntaxError\u001b[0m\u001b[1;31m:\u001b[0m unterminated string literal (detected at line 1)\n"
     ]
    }
   ],
   "source": [
    "stg='Tim's birthday'\n",
    "print(stg)"
   ]
  },
  {
   "cell_type": "code",
   "execution_count": 20,
   "metadata": {},
   "outputs": [
    {
     "name": "stdout",
     "output_type": "stream",
     "text": [
      "Tim's birthday\n"
     ]
    }
   ],
   "source": [
    "stg=\"Tim's birthday\"\n",
    "print(stg)"
   ]
  },
  {
   "cell_type": "code",
   "execution_count": 42,
   "metadata": {},
   "outputs": [
    {
     "name": "stdout",
     "output_type": "stream",
     "text": [
      "ertyopdhfkixzddstuio\n",
      "oiutsddzxikfhdpoytre\n",
      "   tsddzx kfhdp ytr \n",
      "      t s d d z x   k f h d p   y t r   "
     ]
    }
   ],
   "source": [
    "stg=str(input(\"Enter a String = \"))\n",
    "print(stg)\n",
    "stg1=(stg[::-1])\n",
    "print(stg1)\n",
    "vary=stg1.replace(\"e\",\" \")\n",
    "vary1=vary.replace(\"o\",\" \" )\n",
    "vary2=vary1.replace(\"a\",\" \")\n",
    "vary3=vary2.replace(\"i\",\" \")\n",
    "vary4=vary3.replace(\"u\",\" \")\n",
    "print(vary4)"
   ]
  },
  {
   "cell_type": "code",
   "execution_count": 1,
   "metadata": {},
   "outputs": [
    {
     "name": "stdout",
     "output_type": "stream",
     "text": [
      "['6']\n",
      "['6', '78']\n",
      "['6', '78', '9']\n",
      "['6', '78', '9', '7']\n",
      "['6', '78', '9', '7', '5']\n",
      "5\n",
      "['6', '78', '9', '7', '5']\n",
      "6 78 9 7 5 "
     ]
    },
    {
     "data": {
      "text/plain": [
       "'9'"
      ]
     },
     "execution_count": 1,
     "metadata": {},
     "output_type": "execute_result"
    }
   ],
   "source": [
    "user=int(input(\"How many numbers :\"))\n",
    "lis=[ ]\n",
    "for i in range(user):\n",
    "    lis.append(input(\"The Number is = \"))\n",
    "    print(lis)\n",
    "print(len(lis))\n",
    "x=(lis)\n",
    "print(x)\n",
    "for big in x:\n",
    "    print(big,end=\" \")\n",
    "max(x)"
   ]
  },
  {
   "cell_type": "code",
   "execution_count": 13,
   "metadata": {},
   "outputs": [
    {
     "name": "stdout",
     "output_type": "stream",
     "text": [
      "WELCOME TO  LEARN PYTHON\n",
      "welcome to  learn python\n",
      "['Welcome', 'to', '', 'learn', 'python']\n"
     ]
    }
   ],
   "source": [
    "stg=\"Welcome to  learn python\"\n",
    "print(stg.upper())\n",
    "print(stg.lower())\n",
    "print(stg.split(\" \"))\n",
    "   \n"
   ]
  },
  {
   "cell_type": "markdown",
   "metadata": {},
   "source": [
    "DICTIONARIES SETS"
   ]
  },
  {
   "cell_type": "markdown",
   "metadata": {},
   "source": [
    "#It is an unordered collection of data stored as a pair of key and value"
   ]
  },
  {
   "cell_type": "code",
   "execution_count": 15,
   "metadata": {},
   "outputs": [
    {
     "name": "stdout",
     "output_type": "stream",
     "text": [
      "<class 'dict'>\n"
     ]
    }
   ],
   "source": [
    "d1={}\n",
    "print(type(d1))"
   ]
  },
  {
   "cell_type": "code",
   "execution_count": 16,
   "metadata": {},
   "outputs": [
    {
     "name": "stdout",
     "output_type": "stream",
     "text": [
      "{1: 'Welcome', 2: 'Back'}\n"
     ]
    }
   ],
   "source": [
    "d2={1:\"Welcome\",2:\"Back\"}\n",
    "print(d2)"
   ]
  },
  {
   "cell_type": "markdown",
   "metadata": {},
   "source": [
    "HACKER RANK SERIES"
   ]
  },
  {
   "cell_type": "code",
   "execution_count": 52,
   "metadata": {},
   "outputs": [
    {
     "name": "stdout",
     "output_type": "stream",
     "text": [
      "Not Weird\n"
     ]
    }
   ],
   "source": [
    "n=int(input())\n",
    "if  n%2 == 0 : \n",
    "        print(\"Not Weird\")\n",
    "elif 2 <= n <= 5:\n",
    "        print(\" Not Weird\")\n",
    "\n",
    "elif  6 <= n <= 20 :\n",
    "        print(\"Weird\")\n",
    "else :\n",
    "        print(\"Not Weird\")\n",
    "\n"
   ]
  },
  {
   "cell_type": "code",
   "execution_count": 22,
   "metadata": {},
   "outputs": [
    {
     "name": "stdout",
     "output_type": "stream",
     "text": [
      "Even\n"
     ]
    }
   ],
   "source": [
    "n=int(input())\n",
    "if  n% 2==0  :\n",
    "        print(\"Even\")\n",
    "else :\n",
    "        print(\"Odd\")\n"
   ]
  },
  {
   "cell_type": "code",
   "execution_count": 27,
   "metadata": {},
   "outputs": [
    {
     "name": "stdout",
     "output_type": "stream",
     "text": [
      "7\n",
      "-1\n",
      "12\n"
     ]
    }
   ],
   "source": [
    "a=int(input())\n",
    "b=int(input())\n",
    "print(a+b)\n",
    "print(a-b)\n",
    "print(a*b)"
   ]
  },
  {
   "cell_type": "code",
   "execution_count": null,
   "metadata": {},
   "outputs": [],
   "source": [
    "a=int(input())\n",
    "b=int(input())\n",
    "print(a//b)\n",
    "print(a/b)"
   ]
  },
  {
   "cell_type": "code",
   "execution_count": 10,
   "metadata": {},
   "outputs": [
    {
     "name": "stdout",
     "output_type": "stream",
     "text": [
      "0\n",
      "1\n"
     ]
    }
   ],
   "source": [
    "n=int(input())\n",
    "for i in range(0,n):\n",
    "    print(i*i)"
   ]
  },
  {
   "cell_type": "code",
   "execution_count": 43,
   "metadata": {},
   "outputs": [
    {
     "name": "stdout",
     "output_type": "stream",
     "text": [
      "600.0\n",
      "6.0\n"
     ]
    },
    {
     "data": {
      "text/plain": [
       "float"
      ]
     },
     "execution_count": 43,
     "metadata": {},
     "output_type": "execute_result"
    }
   ],
   "source": [
    "n=int(input())\n",
    "x=n/4 \n",
    "y=n/400\n",
    "print(x)\n",
    "type(x)\n",
    "print(y)\n",
    "type(y)\n",
    "\n",
    "#if int (x/100)==0:\n",
    "  # print(\"True\")\n",
    "#else :\n",
    "   #print(\"False\")\n",
    "\n",
    "\n",
    "#if(n/4 ,n/400) and x%2==0:\n",
    "   # print(\"True\")\n",
    "#else :\n",
    " #   print(\"False\")\n"
   ]
  },
  {
   "cell_type": "code",
   "execution_count": 45,
   "metadata": {},
   "outputs": [
    {
     "name": "stdout",
     "output_type": "stream",
     "text": [
      "500.0\n",
      "5.0\n"
     ]
    }
   ],
   "source": [
    "n=int(input())\n",
    "x=n/4 \n",
    "y=n/400\n",
    "print(x)\n",
    "type(x)\n",
    "print(y)\n",
    "type(y)\n",
    "if (x/1 and y/100 == int):\n",
    "    print(\"True\")"
   ]
  },
  {
   "cell_type": "code",
   "execution_count": 85,
   "metadata": {},
   "outputs": [
    {
     "name": "stdout",
     "output_type": "stream",
     "text": [
      "['4', '5', '6']\n",
      "['6', '5']\n",
      "['5', '6']\n"
     ]
    }
   ],
   "source": [
    "\n",
    "user=int(input())\n",
    "lis=[ ]\n",
    "for i in range(user):\n",
    "    lis.append(input())\n",
    "mylis=lis\n",
    "print(mylis)\n",
    "(mylis.pop(0))\n",
    "(mylis.append(input()))\n",
    "mylis.sort(reverse=True)\n",
    "(mylis.pop(-1))\n",
    "print(mylis)\n",
    "print(mylis[::-1])\n"
   ]
  },
  {
   "cell_type": "code",
   "execution_count": 26,
   "metadata": {},
   "outputs": [
    {
     "name": "stdout",
     "output_type": "stream",
     "text": [
      "['45'] ['45', '65'] ['45', '65', '34'] ['45', '65', '34', '54'] ['45', '65', '34', '54', '66'] 45 65 65\n",
      "34 54 66 66\n"
     ]
    }
   ],
   "source": [
    "user=int(input())\n",
    "lis=[ ]\n",
    "for i in range(user):\n",
    "    lis.append(input(lis))\n",
    "    print(lis,end=\" \")\n",
    "mx=lis[0]\n",
    "for val in lis :\n",
    "    print(val,end=\" \")\n",
    "    if val > mx:\n",
    "        mx=val\n",
    "        print(mx)\n",
    " \n"
   ]
  },
  {
   "cell_type": "code",
   "execution_count": 34,
   "metadata": {},
   "outputs": [
    {
     "ename": "NameError",
     "evalue": "name 'le' is not defined",
     "output_type": "error",
     "traceback": [
      "\u001b[1;31m---------------------------------------------------------------------------\u001b[0m",
      "\u001b[1;31mNameError\u001b[0m                                 Traceback (most recent call last)",
      "Input \u001b[1;32mIn [34]\u001b[0m, in \u001b[0;36m<cell line: 1>\u001b[1;34m()\u001b[0m\n\u001b[1;32m----> 1\u001b[0m df[cat] \u001b[39m=\u001b[39m le\u001b[39m.\u001b[39mfit_transform(df[cat]\u001b[39m.\u001b[39mastype(\u001b[39mstr\u001b[39m))\n\u001b[0;32m      2\u001b[0m user\u001b[39m=\u001b[39m\u001b[39mint\u001b[39m(\u001b[39minput\u001b[39m())\n\u001b[0;32m      3\u001b[0m lis\u001b[39m=\u001b[39m[ ]\n",
      "\u001b[1;31mNameError\u001b[0m: name 'le' is not defined"
     ]
    }
   ],
   "source": [
    "df[cat] = le.fit_transform(df[cat].astype(str))\n",
    "user=int(input())\n",
    "lis=[ ]\n",
    "for i in range(user):\n",
    "    lis.append(input(lis))\n",
    "    print(lis)\n",
    "    mylis=lis\n",
    "    pos_count,neg_count=0,0\n",
    "    for val in mylis:\n",
    "            if val > 0 :\n",
    "                pos_count+=1\n",
    "else:\n",
    "    neg_count+=1\n",
    "  \n",
    "print(\"positive number is =\",pos_count)\n",
    "print(\"negative count is = \",neg_count)\n",
    "       "
   ]
  },
  {
   "cell_type": "code",
   "execution_count": 11,
   "metadata": {},
   "outputs": [
    {
     "ename": "KeyboardInterrupt",
     "evalue": "",
     "output_type": "error",
     "traceback": [
      "\u001b[1;31m---------------------------------------------------------------------------\u001b[0m",
      "\u001b[1;31mKeyboardInterrupt\u001b[0m                         Traceback (most recent call last)",
      "\u001b[1;32mc:\\Users\\santhoshram\\Desktop\\My project\\python\\San Py\\Firstpypro.ipynb Cell 114'\u001b[0m in \u001b[0;36m<cell line: 4>\u001b[1;34m()\u001b[0m\n\u001b[0;32m      <a href='vscode-notebook-cell:/c%3A/Users/santhoshram/Desktop/My%20project/python/San%20Py/Firstpypro.ipynb#ch0000113?line=3'>4</a>\u001b[0m \u001b[39mwhile\u001b[39;00m(user\u001b[39m>\u001b[39m\u001b[39m0\u001b[39m):\n\u001b[0;32m      <a href='vscode-notebook-cell:/c%3A/Users/santhoshram/Desktop/My%20project/python/San%20Py/Firstpypro.ipynb#ch0000113?line=4'>5</a>\u001b[0m     r\u001b[39m=\u001b[39muser\u001b[39m%\u001b[39m\u001b[39m10\u001b[39m\n\u001b[1;32m----> <a href='vscode-notebook-cell:/c%3A/Users/santhoshram/Desktop/My%20project/python/San%20Py/Firstpypro.ipynb#ch0000113?line=5'>6</a>\u001b[0m     s\u001b[39m=\u001b[39ms\u001b[39m*\u001b[39;49m\u001b[39m10\u001b[39;49m\u001b[39m+\u001b[39mr\n\u001b[0;32m      <a href='vscode-notebook-cell:/c%3A/Users/santhoshram/Desktop/My%20project/python/San%20Py/Firstpypro.ipynb#ch0000113?line=6'>7</a>\u001b[0m user\u001b[39m=\u001b[39muser\u001b[39m/\u001b[39m\u001b[39m/\u001b[39m\u001b[39m10\u001b[39m\n\u001b[0;32m      <a href='vscode-notebook-cell:/c%3A/Users/santhoshram/Desktop/My%20project/python/San%20Py/Firstpypro.ipynb#ch0000113?line=7'>8</a>\u001b[0m \u001b[39mprint\u001b[39m(s)\n",
      "\u001b[1;31mKeyboardInterrupt\u001b[0m: "
     ]
    }
   ],
   "source": [
    "user=int(input())\n",
    "temp=user\n",
    "s=0\n",
    "while(user>0):\n",
    "    r=user%10\n",
    "    s=s*10+r\n",
    "user=user//10\n",
    "print(s)"
   ]
  },
  {
   "cell_type": "code",
   "execution_count": 27,
   "metadata": {},
   "outputs": [
    {
     "name": "stdout",
     "output_type": "stream",
     "text": [
      "madam\n",
      "madam\n",
      "Not Palindrome\n"
     ]
    }
   ],
   "source": [
    "user=input((\"Enter the string : \"))\n",
    "temp=user\n",
    "print(temp)\n",
    "x=print(user[::-1])\n",
    "if (x==temp):\n",
    "    print(\"palindrome\")\n",
    "else :\n",
    "    print (\"Not Palindrome\")\n",
    "\n"
   ]
  },
  {
   "cell_type": "code",
   "execution_count": 31,
   "metadata": {},
   "outputs": [
    {
     "name": "stdout",
     "output_type": "stream",
     "text": [
      "Not palindrome\n"
     ]
    }
   ],
   "source": [
    "string=input((\"Enter the string\"))\n",
    "if(string==string[::-1]):\n",
    "    print(\"Palindrome\")\n",
    "else:\n",
    "    print(\"Not palindrome\")"
   ]
  }
 ],
 "metadata": {
  "interpreter": {
   "hash": "04eb7019444362bae5438349d0f6560771ad77dd374219091e19905d040cbded"
  },
  "kernelspec": {
   "display_name": "Python 3.10.2 64-bit",
   "language": "python",
   "name": "python3"
  },
  "language_info": {
   "codemirror_mode": {
    "name": "ipython",
    "version": 3
   },
   "file_extension": ".py",
   "mimetype": "text/x-python",
   "name": "python",
   "nbconvert_exporter": "python",
   "pygments_lexer": "ipython3",
   "version": "3.10.2"
  },
  "orig_nbformat": 4
 },
 "nbformat": 4,
 "nbformat_minor": 2
}
